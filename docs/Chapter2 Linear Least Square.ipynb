{
 "cells": [
  {
   "cell_type": "markdown",
   "metadata": {},
   "source": [
    "# 线性最小二乘解法"
   ]
  },
  {
   "cell_type": "markdown",
   "metadata": {},
   "source": [
    "对一个列满秩的$m\\times n$矩阵A，线性最小二乘问题$min_X ||Ax - b||_2^2$可以通过求解正规方程得到\n",
    "$$A^TAx = A^Tb$$\n",
    "\n",
    "**备注**: $M\\times N$的矩阵与$N \\times P$的矩阵相乘，需要$MNP$次乘法与$M(N-1)P$次加法，即$MNP$ flops。"
   ]
  },
  {
   "cell_type": "markdown",
   "metadata": {},
   "source": [
    "## 解法一、Cholesky分解\n",
    "对$A^TA$进行cholesky分解，得$A^TA = R^TR$，然后求解$R^Ty = A^Tb$，最终得到解为$Rx = y$。\n",
    "综上，Cholesky需要$n^3 / 3$ flops，加上计算$A^TA$的$n^2m$ flops,最终为\n",
    "$$(m+ n / 3)n^2 flops$$"
   ]
  },
  {
   "cell_type": "markdown",
   "metadata": {},
   "source": [
    "## 解法二、QR分解\n",
    "QR分解比Cholesky分解更精确，且数值更稳定。但比Cholesky分解稍慢。\n",
    "<div align=\"center\"><img src=\"../resources/chapter2/QR.png\" width=30%></div>\n",
    "<div align=\"center\"><img src=\"../resources/chapter2/QR2.png\" width=30%></div>\n"
   ]
  }
 ],
 "metadata": {
  "kernelspec": {
   "display_name": "Python 3",
   "language": "python",
   "name": "python3"
  },
  "language_info": {
   "codemirror_mode": {
    "name": "ipython",
    "version": 3
   },
   "file_extension": ".py",
   "mimetype": "text/x-python",
   "name": "python",
   "nbconvert_exporter": "python",
   "pygments_lexer": "ipython3",
   "version": "3.8.3"
  }
 },
 "nbformat": 4,
 "nbformat_minor": 4
}
