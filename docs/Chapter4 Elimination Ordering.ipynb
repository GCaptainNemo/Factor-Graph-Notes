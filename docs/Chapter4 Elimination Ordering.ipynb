{
 "cells": [
  {
   "cell_type": "markdown",
   "metadata": {},
   "source": [
    "# 消元顺序"
   ]
  },
  {
   "cell_type": "markdown",
   "metadata": {},
   "source": [
    "第三章一个重要的结论是，jacobi矩阵qr分解可以看成把因子图按jacobi列顺序消元变成贝叶斯网络。**不同的消元顺序(Jacobi列顺序)会导致生成的贝叶斯网络具有不同的拓扑结构**，因此本章着重讨论消元顺序的影响。\n",
    "<div align=\"center\"><img src=\"../resources/chapter4/qr_correspondance.png\" width=30%></div>\n",
    "<div align=\"center\"><img src=\"../resources/chapter4/cholesky_correspondance.png\" width=30%></div>"
   ]
  }
 ],
 "metadata": {
  "kernelspec": {
   "display_name": "Python 3",
   "language": "python",
   "name": "python3"
  },
  "language_info": {
   "codemirror_mode": {
    "name": "ipython",
    "version": 3
   },
   "file_extension": ".py",
   "mimetype": "text/x-python",
   "name": "python",
   "nbconvert_exporter": "python",
   "pygments_lexer": "ipython3",
   "version": "3.8.3"
  }
 },
 "nbformat": 4,
 "nbformat_minor": 4
}
