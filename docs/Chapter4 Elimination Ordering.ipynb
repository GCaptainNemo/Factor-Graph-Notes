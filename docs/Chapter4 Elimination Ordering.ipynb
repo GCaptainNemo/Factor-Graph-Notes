{
 "cells": [
  {
   "cell_type": "markdown",
   "metadata": {},
   "source": [
    "# 消元顺序"
   ]
  },
  {
   "cell_type": "markdown",
   "metadata": {},
   "source": [
    "Jacobi矩阵QR分解用于求解线性化目标函数的最优值，即迭代步长。第三章一个重要的结论是，jacobi矩阵qr分解可以看成把因子图按jacobi列顺序消元变成贝叶斯网络。**不同的消元顺序(Jacobi列顺序)会导致生成的贝叶斯网络具有不同的拓扑结构**，因此本章着重讨论消元顺序的影响。\n",
    "<div align=\"center\"><img src=\"../resources/chapter4/qr_correspondance.png\" width=30%></div>\n",
    "<div align=\"center\"><img src=\"../resources/chapter4/cholesky_correspondance.png\" width=30%></div>"
   ]
  },
  {
   "cell_type": "markdown",
   "metadata": {},
   "source": [
    "## 一、变量消元顺序非常重要\n",
    "不同的变量消元顺序对最终生成贝叶斯网络的拓扑结构有巨大影响，不好的消元顺序将导致贝叶斯网络生成额外的边(称为fill-in)。\n",
    "<div align=\"center\"><img src=\"../resources/chapter4/order_matter2.png\" width=30%></div>\n",
    "\n",
    "<div align=\"center\"><img src=\"../resources/chapter4/order_matter.png\" width=30%></div>\n"
   ]
  },
  {
   "cell_type": "markdown",
   "metadata": {},
   "source": [
    "## 二、启发式的排序算法\n",
    "如果一个消元顺序具有最少的fill-in将是最快的消元算法，但找到它是NP-hard的。有许多启发式的排序算法可以逼近最优解。\n",
    "### 2.1 最小度算法\n",
    "即按照节点的度进行排序，从最小的度开始消元。\n",
    "### 2.2 Nested Dissection Orderings\n",
    "略"
   ]
  },
  {
   "cell_type": "markdown",
   "metadata": {},
   "source": [
    "### 2.3 机器人中的启发式排序\n",
    "在SLAM任务中，一个naive排序顺序是先对landmark进行消元，再对位姿进行消元，这被称为Shur补技巧。"
   ]
  }
 ],
 "metadata": {
  "kernelspec": {
   "display_name": "Python 3",
   "language": "python",
   "name": "python3"
  },
  "language_info": {
   "codemirror_mode": {
    "name": "ipython",
    "version": 3
   },
   "file_extension": ".py",
   "mimetype": "text/x-python",
   "name": "python",
   "nbconvert_exporter": "python",
   "pygments_lexer": "ipython3",
   "version": "3.8.3"
  }
 },
 "nbformat": 4,
 "nbformat_minor": 4
}
