{
 "cells": [
  {
   "cell_type": "markdown",
   "metadata": {},
   "source": [
    "# 增量式的平滑与建图"
   ]
  },
  {
   "cell_type": "markdown",
   "metadata": {},
   "source": [
    "前面我们讨论了离线的平滑与建图的方法，即所有数据都提前采集好。这章我们讨论增量式的系统，即观测作为一个时间序列到来。除此之外，当一个场景过于庞大以至于不能进行Batch优化时，也需采用增量式优化的技巧降低计算量。增量式计算的本质是要复用已经计算的结果。"
   ]
  },
  {
   "cell_type": "markdown",
   "metadata": {},
   "source": [
    "## 一、更新矩阵分解\n",
    "在增量式优化的设定中，我们想要用新的观测更新最近的矩阵分解结果，来复用之前观测的计算结果。"
   ]
  }
 ],
 "metadata": {
  "kernelspec": {
   "display_name": "Python 3",
   "language": "python",
   "name": "python3"
  },
  "language_info": {
   "codemirror_mode": {
    "name": "ipython",
    "version": 3
   },
   "file_extension": ".py",
   "mimetype": "text/x-python",
   "name": "python",
   "nbconvert_exporter": "python",
   "pygments_lexer": "ipython3",
   "version": "3.8.3"
  }
 },
 "nbformat": 4,
 "nbformat_minor": 4
}
