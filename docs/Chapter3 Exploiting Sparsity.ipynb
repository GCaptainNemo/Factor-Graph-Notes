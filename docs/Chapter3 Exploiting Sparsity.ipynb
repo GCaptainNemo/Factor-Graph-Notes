{
 "cells": [
  {
   "cell_type": "markdown",
   "metadata": {},
   "source": [
    "# 挖掘稀疏性"
   ]
  },
  {
   "cell_type": "markdown",
   "metadata": {},
   "source": [
    "在前面的章节中，我们发现要进行最大后验推断需要不断地求解大规模稀疏线性系统，即\n",
    "$$\\Delta^{*} = argmin_{\\Delta}\\sum_i ||A_i\\Delta_i -b_i||_2^2$$\n",
    "每一项(term)都是从原始非线性因子通过线性化得到。"
   ]
  },
  {
   "cell_type": "markdown",
   "metadata": {},
   "source": [
    "## 一、雅各比矩阵稀疏性\n",
    "在线性化后，我们会得到一个稀疏系统[A|b]，如下图所示。将[A|b]与因子图比较可以看出，首先每个因子节点对应一个block row，每个变量节点对应一个block column。\n",
    "<div align=\"center\"><img src=\"../resources/chapter3/jacobian_sparsity.png\" width=50%></div>"
   ]
  },
  {
   "cell_type": "markdown",
   "metadata": {},
   "source": [
    "## 二、Hessian矩阵稀疏性\n",
    "由于Jacobian矩阵A具有稀疏性，则Hessian矩阵$A^TA$也具有稀疏性。具体来说，Hessian矩阵的稀疏性与SLAM的markov random field的邻接矩阵稀疏性相同(严格讲邻接矩阵对角元素为0，因此是与Lapacian矩阵相同)。马尔可夫随机场是一种无向图概率图模型，且只包含变量节点，若连接一条边表示两个节点之间具有某种联系，类似g2o中图优化的定义。\n",
    "<div align=\"center\"><img src=\"../resources/chapter3/hessian_sparsity.png\" width=50%></div>"
   ]
  },
  {
   "cell_type": "markdown",
   "metadata": {},
   "source": [
    "## 三、Elimination Algorithm\n",
    "消元算法是一种把**因子图转换成贝叶斯网络的算法**，且只针对因子图中的变量节点。\n",
    "\n",
    "<div align=\"center\"><img src=\"../resources/chapter3/elimination_algorithm.png\" width=50%></div>\n",
    "\n",
    "具体应用如下所示，每次删除一个红色变量节点周边对应因子，并构建一个新的周边因子。消元把因子图一个变量节点变成贝叶斯网络的结果节点。\n",
    "\n",
    "<div align=\"center\"><img src=\"../resources/chapter3/elimination_algorithm_application.png\" width=50%></div>\n",
    "\n",
    "综上，实际上对应如下分解：\n",
    "$$\\mathbb{P}(l_1, l_2, x_1, x_2, x_3) = \\mathbb{P}(l_1|x_1, x_2)\\mathbb{P}(l_2|x_3)\\mathbb{P}(x_1|x_2)\\mathbb{P}(x_2|x_3)\\mathbb{P}(x_3)$$"
   ]
  },
  {
   "cell_type": "markdown",
   "metadata": {},
   "source": [
    "## 参考资料\n",
    "[1] [知乎-图的拉普拉斯矩阵](https://zhuanlan.zhihu.com/p/362416124)"
   ]
  }
 ],
 "metadata": {
  "kernelspec": {
   "display_name": "Python 3",
   "language": "python",
   "name": "python3"
  },
  "language_info": {
   "codemirror_mode": {
    "name": "ipython",
    "version": 3
   },
   "file_extension": ".py",
   "mimetype": "text/x-python",
   "name": "python",
   "nbconvert_exporter": "python",
   "pygments_lexer": "ipython3",
   "version": "3.8.3"
  }
 },
 "nbformat": 4,
 "nbformat_minor": 4
}
