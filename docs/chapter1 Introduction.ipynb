{
 "cells": [
  {
   "cell_type": "markdown",
   "metadata": {},
   "source": [
    "# 从贝叶斯网络到因子图"
   ]
  },
  {
   "cell_type": "markdown",
   "metadata": {},
   "source": [
    "因子图(Factor Graph)是概率图模型家族的一员，该家族还有贝叶斯网络和马尔可夫随机场。它们都是用来解决inference问题的有力工具，即给定观测Z求关于状态变量X的条件概率$\\mathbb{P}(X|Z)$。\n",
    "## 一、机器人中的推断(inference)问题\n",
    "SLAM，定位，传感器标定都可以归纳为给定传感器观测Z，需要对机器人状态X进行推断(求$\\mathbb{P}(X|Z)$)的问题。概率图模型可以描述复杂概率密度函数中的结构(即随机变量的关系)，因此被广泛应用到推断问题中。"
   ]
  },
  {
   "cell_type": "markdown",
   "metadata": {},
   "source": [
    "##  二、贝叶斯网络模型\n",
    "贝叶斯网络是有向图模型，图中顶点代表随机变量，有向边由原因随机变量指向结果随机变量，具体定义如下所示。\n",
    "<p><img src=\"../resources/chapter1/bayesian_net_def.png\" width=30%></p>\n",
    "下面2.1-2.2节介绍贝叶斯网络建模过程。2.3-2.4是建模好的贝叶斯网络具体应用，分别为仿真数据生成与最大后验推断。\n",
    "### 2.1 建模随机变量关系\n",
    "下面对一个SLAM系统用贝叶斯网络建模，其中x代表传感器位姿，l代表观测到的路标点，两者都是状态变量；z是传感器观测变量。则该SLAM系统对应的Bayesian网络如下所示。\n",
    "<p><img src=\"../resources/chapter1/bayesian_net_application.png\" width=30%></p>\n",
    "\n",
    "### 2.2 确定概率密度函数\n",
    "先验分布通常为高斯分布；观测分布$\\mathbb{P}(z|x,l)= \\mathcal{N}(z;h(x,l), R)$，$h(\\cdot)$为观测方程；运动分布$\\mathbb{P}(x_{t+1}|x_t) = \\mathcal{N}(x_{t+1}|g(x_t,u_t), Q)$，$g(\\cdot)$为状态转移方程。\n",
    "<div align=\"center\"><img src=\"../resources/chapter1/prob_density_1.png\" width=35%>\n",
    "  <img src=\"../resources/chapter1/prob_density_2.png\" width=35%></div>"
   ]
  },
  {
   "cell_type": "markdown",
   "metadata": {},
   "source": [
    "### 2.3 通过贝叶斯网络生成仿真数据\n",
    "通过2.1与2.2节，我们得到了一个有具体概率分布定义的贝叶斯网络模型。**一旦贝叶斯网络中概率模型的形式被指定，则很容易通过贝叶斯网络进行仿真**，这就是为什么生成式模型常用贝叶斯模型作为语言(比如Gaussian Mixture Model)。具体生成过程如下所示。\n",
    "<div align=\"center\"><img src=\"../resources/chapter1/simulation.png\" width=35%></div>\n",
    "\n",
    "\n",
    "### 2.4 最大后验推断\n",
    "$$\\mathbb{P}(X|Z) \\propto \\mathbb{P}(Z)\\times \\mathbb{P}(Z|X)$$\n",
    "令$l(x;z) \\propto \\mathbb{P}(X|Z)$是给定观测Z，关于X的似然函数。则最大后验估计即\n",
    "\n",
    "$$X^{MAP} = argmax_X l(X;Z)\\mathbb{P}(X)$$"
   ]
  },
  {
   "cell_type": "markdown",
   "metadata": {},
   "source": [
    "## 三、使用因子图推断\n",
    "贝叶斯网络适合用来建模，但因子图模型更适合用来inference，**因子图中所有因子的乘积正比于$\\mathbb{P}(X|Z)$**。因子图同样把联合密度表示一系列因子的乘积，而且因子$\\phi(x)$的概念更通用，它表示关于变量x的函数，不只是概率分布。因子图详细定义如下所示，它分为变量节点和因子节点，是二分图。其中因子节点是关于相邻变量节点的函数。\n",
    "\n",
    "<div align=\"center\"><img src=\"../resources/chapter1/factor_graph_def.png\" width=35%></div>\n",
    "\n",
    "综上，SLAM系统的因子图如下所示。所有因子的乘积正比于$\\mathbb{P}(X|Z)$。\n",
    "\n",
    "<div align=\"center\"><img src=\"../resources/chapter1/factor_graph_application.png\" width=35%></div>\n"
   ]
  }
 ],
 "metadata": {
  "kernelspec": {
   "display_name": "Python 3",
   "language": "python",
   "name": "python3"
  },
  "language_info": {
   "codemirror_mode": {
    "name": "ipython",
    "version": 3
   },
   "file_extension": ".py",
   "mimetype": "text/x-python",
   "name": "python",
   "nbconvert_exporter": "python",
   "pygments_lexer": "ipython3",
   "version": "3.8.3"
  }
 },
 "nbformat": 4,
 "nbformat_minor": 4
}
